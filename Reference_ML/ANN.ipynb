{
  "nbformat": 4,
  "nbformat_minor": 0,
  "metadata": {
    "colab": {
      "name": "ANN.ipynb",
      "provenance": [],
      "collapsed_sections": [],
      "authorship_tag": "ABX9TyMBpIXxt0dx5doL5lGnch3S"
    },
    "kernelspec": {
      "name": "python3",
      "display_name": "Python 3"
    },
    "language_info": {
      "name": "python"
    }
  },
  "cells": [
    {
      "cell_type": "code",
      "metadata": {
        "colab": {
          "base_uri": "https://localhost:8080/"
        },
        "id": "NS4pdViTJdkt",
        "outputId": "08e26c7e-3452-4a97-feb3-b89ff863dfc2"
      },
      "source": [
        "#Importing Libraries\n",
        "import numpy as np\n",
        "import pandas as pd\n",
        "import matplotlib.pyplot as plt\n",
        "import math\n",
        "import datetime as dt\n",
        "from keras.models import Sequential\n",
        "from keras.layers.core import Dense, Dropout, Activation\n",
        "!pip install yfinance\n",
        "import yfinance as yf"
      ],
      "execution_count": 1,
      "outputs": [
        {
          "output_type": "stream",
          "name": "stdout",
          "text": [
            "Collecting yfinance\n",
            "  Downloading yfinance-0.1.67-py2.py3-none-any.whl (25 kB)\n",
            "Requirement already satisfied: multitasking>=0.0.7 in /usr/local/lib/python3.7/dist-packages (from yfinance) (0.0.10)\n",
            "Requirement already satisfied: requests>=2.20 in /usr/local/lib/python3.7/dist-packages (from yfinance) (2.23.0)\n",
            "Requirement already satisfied: numpy>=1.15 in /usr/local/lib/python3.7/dist-packages (from yfinance) (1.19.5)\n",
            "Collecting lxml>=4.5.1\n",
            "  Downloading lxml-4.6.4-cp37-cp37m-manylinux_2_17_x86_64.manylinux2014_x86_64.manylinux_2_24_x86_64.whl (6.3 MB)\n",
            "\u001b[K     |████████████████████████████████| 6.3 MB 6.7 MB/s \n",
            "\u001b[?25hRequirement already satisfied: pandas>=0.24 in /usr/local/lib/python3.7/dist-packages (from yfinance) (1.1.5)\n",
            "Requirement already satisfied: python-dateutil>=2.7.3 in /usr/local/lib/python3.7/dist-packages (from pandas>=0.24->yfinance) (2.8.2)\n",
            "Requirement already satisfied: pytz>=2017.2 in /usr/local/lib/python3.7/dist-packages (from pandas>=0.24->yfinance) (2018.9)\n",
            "Requirement already satisfied: six>=1.5 in /usr/local/lib/python3.7/dist-packages (from python-dateutil>=2.7.3->pandas>=0.24->yfinance) (1.15.0)\n",
            "Requirement already satisfied: certifi>=2017.4.17 in /usr/local/lib/python3.7/dist-packages (from requests>=2.20->yfinance) (2021.10.8)\n",
            "Requirement already satisfied: chardet<4,>=3.0.2 in /usr/local/lib/python3.7/dist-packages (from requests>=2.20->yfinance) (3.0.4)\n",
            "Requirement already satisfied: urllib3!=1.25.0,!=1.25.1,<1.26,>=1.21.1 in /usr/local/lib/python3.7/dist-packages (from requests>=2.20->yfinance) (1.24.3)\n",
            "Requirement already satisfied: idna<3,>=2.5 in /usr/local/lib/python3.7/dist-packages (from requests>=2.20->yfinance) (2.10)\n",
            "Installing collected packages: lxml, yfinance\n",
            "  Attempting uninstall: lxml\n",
            "    Found existing installation: lxml 4.2.6\n",
            "    Uninstalling lxml-4.2.6:\n",
            "      Successfully uninstalled lxml-4.2.6\n",
            "Successfully installed lxml-4.6.4 yfinance-0.1.67\n"
          ]
        }
      ]
    },
    {
      "cell_type": "code",
      "metadata": {
        "colab": {
          "base_uri": "https://localhost:8080/"
        },
        "id": "omxRCPb6JnDY",
        "outputId": "7e5085e8-f8a4-430b-c52a-ecd8875f133a"
      },
      "source": [
        "#Loading the data\n",
        "data = yf.download('SPY')\n",
        "\n",
        "#Setting the date as index for data\n",
        "data = data.reset_index()\n",
        "data = data.set_index(pd.DatetimeIndex(data['Date'].values))\n",
        "#Dropping unwanted columns\n",
        "data.drop(data.columns[[3,5]], axis=1, inplace=True)\n",
        "print(data)"
      ],
      "execution_count": 2,
      "outputs": [
        {
          "output_type": "stream",
          "name": "stdout",
          "text": [
            "\r[*********************100%***********************]  1 of 1 completed\n",
            "                 Date        Open        High       Close     Volume\n",
            "1993-01-29 1993-01-29   43.968750   43.968750   43.937500    1003200\n",
            "1993-02-01 1993-02-01   43.968750   44.250000   44.250000     480500\n",
            "1993-02-02 1993-02-02   44.218750   44.375000   44.343750     201300\n",
            "1993-02-03 1993-02-03   44.406250   44.843750   44.812500     529400\n",
            "1993-02-04 1993-02-04   44.968750   45.093750   45.000000     531500\n",
            "...               ...         ...         ...         ...        ...\n",
            "2021-11-24 2021-11-24  466.059998  469.570007  469.440002   61858800\n",
            "2021-11-26 2021-11-26  462.339996  463.899994  458.970001  112669600\n",
            "2021-11-29 2021-11-29  464.070007  466.559998  464.600006   86268800\n",
            "2021-11-30 2021-11-30  462.000000  464.029999  455.559998  148559600\n",
            "2021-12-01 2021-12-01  461.640015  464.670013  450.500000  131939200\n",
            "\n",
            "[7264 rows x 5 columns]\n"
          ]
        }
      ]
    },
    {
      "cell_type": "code",
      "metadata": {
        "id": "WVbQqRSOJzzF"
      },
      "source": [
        "#Normalizing/Removing null data points\n",
        "data['Open'] = data['Open']/100\n",
        "data['Close'] = data['Close']/100\n",
        "data['High'] = data['High']/100\n",
        "data['Volume'] = data['Volume']/1000000\n",
        "#print(data)\n",
        "\n",
        "nan_value_index = []\n",
        "\n",
        "High = data.High.isnull()\n",
        "for i in range(0, len(High)):\n",
        "    if High[i] == 1:\n",
        "        nan_value_index.append(i)\n",
        "        data['High'][i] = 0\n",
        "Open = data.Open.isnull()\n",
        "for i in range(0, len(Open)):\n",
        "    if Open[i] == 1:\n",
        "        nan_value_index.append(i)\n",
        "        data['Open'][i] = 0\n",
        "Volume = data.Volume.isnull()\n",
        "for i in range(0, len(Volume)):\n",
        "    if Volume[i] == 1:\n",
        "        nan_value_index.append(i)\n",
        "        data['Volume'][i] = 0\n",
        "Close = data.Close.isnull()\n",
        "for i in range(0, len(Close)):\n",
        "    if Close[i] == 1:\n",
        "        nan_value_index.append(i)\n",
        "        data['Close'][i] = 0\n",
        "\n",
        "X = data[['High','Open', 'Volume']]\n",
        "Y = data[['Close']]"
      ],
      "execution_count": 3,
      "outputs": []
    },
    {
      "cell_type": "code",
      "metadata": {
        "colab": {
          "base_uri": "https://localhost:8080/"
        },
        "id": "nEWvjo2fJ8-3",
        "outputId": "5784c2e0-ac3c-462c-dc57-7610d96e9d56"
      },
      "source": [
        "#Splitting the data for training/testing\n",
        "length = X.shape[0]\n",
        "train = int(length*0.80)\n",
        "X_train = X[:train]\n",
        "Y_train = Y[:train]\n",
        "X_test = X[train:]\n",
        "Y_test = Y[train:]\n",
        "#print(\"X_train\", X_train.shape)\n",
        "#print(\"y_train\", Y_train.shape)\n",
        "#print(\"X_test\", X_test.shape)\n",
        "#print(\"y_test\", Y_test.shape)\n",
        "\n",
        "#Training the Neural Network Model\n",
        "model = Sequential()\n",
        "#Adding the input and hidden layers\n",
        "model.add(Dense(units = 32, kernel_initializer = 'uniform', activation = 'relu', input_dim = 3))\n",
        "model.add(Dense(units = 10, kernel_initializer = 'uniform', activation = 'relu'))\n",
        "#Adding output layer\n",
        "model.add(Dense(units = 1, kernel_initializer = 'uniform', activation = 'linear'))\n",
        "#To compile the neural network model\n",
        "model.compile(optimizer = 'adam', loss = 'mean_squared_error', metrics = [])\n",
        "#Fitting the model to the training data\n",
        "model.fit(X_train, Y_train, batch_size = 128, epochs = 10, validation_split=0.05)"
      ],
      "execution_count": 4,
      "outputs": [
        {
          "output_type": "stream",
          "name": "stdout",
          "text": [
            "Epoch 1/10\n",
            "44/44 [==============================] - 1s 5ms/step - loss: 0.9745 - val_loss: 1.3458\n",
            "Epoch 2/10\n",
            "44/44 [==============================] - 0s 2ms/step - loss: 0.6798 - val_loss: 1.5037\n",
            "Epoch 3/10\n",
            "44/44 [==============================] - 0s 2ms/step - loss: 0.5464 - val_loss: 1.2028\n",
            "Epoch 4/10\n",
            "44/44 [==============================] - 0s 2ms/step - loss: 0.3030 - val_loss: 0.5544\n",
            "Epoch 5/10\n",
            "44/44 [==============================] - 0s 2ms/step - loss: 0.0681 - val_loss: 0.1388\n",
            "Epoch 6/10\n",
            "44/44 [==============================] - 0s 2ms/step - loss: 0.0260 - val_loss: 0.1107\n",
            "Epoch 7/10\n",
            "44/44 [==============================] - 0s 2ms/step - loss: 0.0234 - val_loss: 0.1151\n",
            "Epoch 8/10\n",
            "44/44 [==============================] - 0s 2ms/step - loss: 0.0219 - val_loss: 0.1231\n",
            "Epoch 9/10\n",
            "44/44 [==============================] - 0s 2ms/step - loss: 0.0200 - val_loss: 0.0776\n",
            "Epoch 10/10\n",
            "44/44 [==============================] - 0s 2ms/step - loss: 0.0174 - val_loss: 0.0813\n"
          ]
        },
        {
          "output_type": "execute_result",
          "data": {
            "text/plain": [
              "<keras.callbacks.History at 0x7f66300a8f90>"
            ]
          },
          "metadata": {},
          "execution_count": 4
        }
      ]
    },
    {
      "cell_type": "code",
      "metadata": {
        "colab": {
          "base_uri": "https://localhost:8080/"
        },
        "id": "r-UHozJeKD0Q",
        "outputId": "30a17b60-8864-443a-be18-530347f650a0"
      },
      "source": [
        "#Predicted Values\n",
        "prediction = model.predict(X_test)\n",
        "print(prediction*100)"
      ],
      "execution_count": 5,
      "outputs": [
        {
          "output_type": "stream",
          "name": "stdout",
          "text": [
            "[[170.59177]\n",
            " [169.91115]\n",
            " [170.79149]\n",
            " ...\n",
            " [345.8332 ]\n",
            " [345.31   ]\n",
            " [345.1452 ]]\n"
          ]
        }
      ]
    },
    {
      "cell_type": "code",
      "metadata": {
        "colab": {
          "base_uri": "https://localhost:8080/",
          "height": 513
        },
        "id": "XqqCnOzqKHNR",
        "outputId": "c4d57c56-3020-4f46-92a4-5cbcede4c199"
      },
      "source": [
        "#Predictions vs Actual results\n",
        "plt.plot(prediction*100,color='blue', label='Predictions by the model')\n",
        "plt.legend(loc='upper left')\n",
        "plt.show()\n",
        "plt.plot(Y_test*100,color='black', label='Actual stock values')\n",
        "plt.legend(loc='upper left')\n",
        "plt.show()\n",
        "#print(prediction)\n",
        "#print(Y_test)"
      ],
      "execution_count": 6,
      "outputs": [
        {
          "output_type": "display_data",
          "data": {
            "image/png": "[encoded data removed]",
            "text/plain": [
              "<Figure size 432x288 with 1 Axes>"
            ]
          },
          "metadata": {
            "needs_background": "light"
          }
        },
        {
          "output_type": "display_data",
          "data": {
            "image/png": "[encoded data removed]",
            "text/plain": [
              "<Figure size 432x288 with 1 Axes>"
            ]
          },
          "metadata": {
            "needs_background": "light"
          }
        }
      ]
    },
    {
      "cell_type": "code",
      "metadata": {
        "colab": {
          "base_uri": "https://localhost:8080/"
        },
        "id": "p5lo9WT3KKeH",
        "outputId": "8abf6ef9-f461-4a45-ebc8-b64d173f6772"
      },
      "source": [
        "#Calculating the Accuracy of our trained Neural Network model\n",
        "score = model.evaluate(X_train, Y_train, verbose = 0) \n",
        "print(\"Accuracy = \", (100-score), \"%\")"
      ],
      "execution_count": 7,
      "outputs": [
        {
          "output_type": "stream",
          "name": "stdout",
          "text": [
            "Accuracy =  99.9838267955929 %\n"
          ]
        }
      ]
    }
  ]
}
